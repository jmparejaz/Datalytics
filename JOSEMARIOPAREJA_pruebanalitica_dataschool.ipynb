{
  "cells": [
    {
      "cell_type": "markdown",
      "metadata": {
        "id": "view-in-github",
        "colab_type": "text"
      },
      "source": [
        "<a href=\"https://colab.research.google.com/github/jmparejaz/Datalytics/blob/main/JOSEMARIOPAREJA_pruebanalitica_dataschool.ipynb\" target=\"_parent\"><img src=\"https://colab.research.google.com/assets/colab-badge.svg\" alt=\"Open In Colab\"/></a>"
      ]
    },
    {
      "cell_type": "markdown",
      "metadata": {
        "id": "XhRkQLOgAm7h",
        "pycharm": {
          "name": "#%%\n"
        }
      },
      "source": [
        "# Prueba analítica\n",
        "\n",
        "**RECUERDA CREAR UNA COPIA DE ESTE NOTEBOOK Y COMPARTIR EL LINK DE LA COPIA**\n",
        "\n",
        "Puedes seguir los siguientes pasos: \n",
        "  1. Das click en Archivo \n",
        "  2. Das click en Guardar una copia en Drive con tu nombre\n",
        "  3. Das click en compartir y agregas el link en el forms\n",
        "\n",
        "La siguiente es una prueba técnica, que tiene como objetivo mostrar sus habilidades para comprender, extraer patrones y generar valor a partir de los datos.\n",
        "\n",
        "La prueba tiene tres componentes, los cuales son:\n",
        "\n",
        "1. Análisis exploratorio de datos.\n",
        "2. Construcción de un modelo analítico (Prototipado rápido).\n",
        "3. Conclusiones\n",
        "\n",
        "Para el desarrollo de la prueba siéntase libre de utilizar el lenguaje de programación con el cuál se sienta más cómodo.\n",
        "\n",
        "## Entendimiento de los datos\n",
        "\n",
        "En la prueba vas a trabajar con el conjunto de datos Churn-Modeling. Este conjunto de datos contiene detalles de los clientes de un banco y la variable objetivo es una variable binaria que refleja el hecho de si el cliente dejó el banco (cerró su cuenta) o si continúa siendo un cliente. \n",
        "\n",
        "Las características capturan información sociodemográfica del cliente, información de productos financieros, el comportamiento y balance de su cuenta. Las características son las siguientes:\n",
        "\n",
        "* **CustomerId**: Id único para identificar el cliente.\n",
        "* **Surname**: Apellido del cliente.\n",
        "* **CreditScore**: Puntaje de crédito del cliente.\n",
        "* **Geography**: País al que pertenece el cliente.\n",
        "* **Gender**: Genero.\n",
        "* **Age**: Edad.\n",
        "* **Tenure**: Número de años que el cliente ha estado en el banco.\n",
        "* **Balance**: Saldo bancario del cliente.\n",
        "* **NumOfProducts**: Número de productos bancarios que utiliza el cliente.\n",
        "* **HasCrCard**: Si el cliente tiene tarjeta de crédito con el banco.\n",
        "* **IsActiveMember**: Si el cliente es miembro activo del banco o no.\n",
        "* **EstimatedSalary**: Salario estimado en dólares.\n",
        "* **Exited**: 1-Si el cliente cerró la cuenta con el banco; 0-Si el cliente es retenido. \n",
        "\n",
        "## Actividades a realizar\n",
        "\n",
        "1. Identifique las variables (características) relevantes para la predicción.\n",
        "2. Justifique sus hallazgos, y el modelo que usó o usaría para la predicción de otros clientes que queremos determinar si cerrarán su cuenta con el fin de definir estrategias para retenerlos.\n",
        "\n",
        "**NOTA**: La prueba se puede resolver usando R o Python. Esto se puede lograr cambiando el kernel del notebook. Para esto damos click en \"Entorno de ejecución\" y en \"Cambiar tipo de entorno de ejecución\" \n"
      ]
    },
    {
      "cell_type": "markdown",
      "metadata": {
        "id": "IgEUII7zAm7j"
      },
      "source": [
        "## 1. Análisis exploratorio de datos\n",
        "\n",
        "El análisis exploratorio de datos (EDA) es un paso previo a la hora de comprender los datos con los que se va a trabajar. El objetivo de este análisis es explorar, describir, resumir y visualizar la naturaleza de los datos recogidos en las variables aleatorias de interés, mediante la aplicación de técnicas simples de resumen de datos y métodos gráficos.\n",
        "\n",
        "Realice el análisis exploratorio e indique los hallazgos o conclusiones al final de esta sección."
      ]
    },
    {
      "cell_type": "markdown",
      "metadata": {
        "id": "sb26C9YhFyvX"
      },
      "source": [
        "#### Datos "
      ]
    },
    {
      "cell_type": "markdown",
      "metadata": {
        "id": "kxI5AI4jF1y2"
      },
      "source": [
        "#### Python"
      ]
    },
    {
      "cell_type": "code",
      "execution_count": null,
      "metadata": {
        "id": "UyavsHYWAm7j"
      },
      "outputs": [],
      "source": [
        "# IMPORT CLASICAL DATA ANALYSIS / DATA SCIENCE LIBRARIES\n",
        "import pandas as pd\n",
        "import numpy as np\n",
        "import matplotlib.image as mpimg\n",
        "import matplotlib.pyplot as plt\n",
        "from matplotlib.pyplot import figure\n",
        "import seaborn as sns\n",
        "# Augmented Dickey-Fuller test to determine how strongly a time series is defined by a trend\n",
        "from statsmodels.tsa.stattools import adfuller\n",
        "# regression library\n",
        "import statsmodels.formula.api as sm\n",
        "import statsmodels.api as sm_\n",
        "from sklearn.model_selection import train_test_split\n",
        "from sklearn.linear_model import LinearRegression,LogisticRegression\n",
        "import sklearn.metrics as skm\n"
      ]
    },
    {
      "cell_type": "code",
      "execution_count": null,
      "metadata": {
        "id": "8orYWjF1FZPx"
      },
      "outputs": [],
      "source": [
        "id = '1vk7fWY4BGBpkqlk2YXWGFuL55HILW7Y7'\n",
        "path = 'https://drive.google.com/uc?export=download&id='+id\n",
        "df = pd.read_csv(path)\n",
        "df.head()"
      ]
    },
    {
      "cell_type": "code",
      "execution_count": null,
      "metadata": {
        "id": "2AAgCnPrI1Ac"
      },
      "outputs": [],
      "source": [
        "#checkeamos por valores nullos en cada columna\n",
        "df.isnull().sum().sort_values(ascending=False)"
      ]
    },
    {
      "cell_type": "code",
      "execution_count": null,
      "metadata": {
        "id": "BmLSp-yHJQ_H"
      },
      "outputs": [],
      "source": [
        "#evitemos la columna \"row_number\"\n",
        "df=df.iloc[:,1:]\n",
        "df"
      ]
    },
    {
      "cell_type": "code",
      "execution_count": null,
      "metadata": {
        "id": "ofYYBjEFK6IP"
      },
      "outputs": [],
      "source": [
        "#Checkemos las estadisticas descriptivas\n",
        "df.describe()"
      ]
    },
    {
      "cell_type": "code",
      "execution_count": null,
      "metadata": {
        "id": "PT4fhx80K2zv"
      },
      "outputs": [],
      "source": [
        "#checkemos la tabla de correlacion\n",
        "df.corr()"
      ]
    },
    {
      "cell_type": "code",
      "execution_count": null,
      "metadata": {
        "id": "tDIKxsHdJu8N"
      },
      "outputs": [],
      "source": [
        "#miremos graficamente la correlacion entre columnas\n",
        "sns.pairplot(df)"
      ]
    },
    {
      "cell_type": "code",
      "execution_count": null,
      "metadata": {
        "id": "1fTfuRIdKgNF"
      },
      "outputs": [],
      "source": [
        "#revisemos la informacion de datatypes por columnas\n",
        "df.info()"
      ]
    },
    {
      "cell_type": "code",
      "execution_count": null,
      "metadata": {
        "id": "Au4Go8QrKdLP"
      },
      "outputs": [],
      "source": [
        "#Cambiemos el tipo de variable para cada columna categorica \n",
        "#df.CustomerId=df.CustomerId.astype('str')\n",
        "df.Surname=df.Surname.astype('category')\n",
        "df.Geography=df.Geography.astype('category')\n",
        "df.Gender=df.Gender.astype('category')\n",
        "df.HasCrCard=df.HasCrCard.astype('category')\n",
        "df.IsActiveMember=df.IsActiveMember.astype('category')\n",
        "df.Exited=df.Exited.astype('int')\n",
        "df.info()"
      ]
    },
    {
      "cell_type": "code",
      "execution_count": null,
      "metadata": {
        "id": "4MpA1TJiM46d"
      },
      "outputs": [],
      "source": [
        "data=df.iloc[:,2:]\n",
        "data"
      ]
    },
    {
      "cell_type": "code",
      "execution_count": null,
      "metadata": {
        "id": "dOHQ-T6KZV0Z"
      },
      "outputs": [],
      "source": [
        "from statsmodels.genmod.families import Binomial\n",
        "from statsmodels.genmod.generalized_linear_model import GLM\n",
        "from sklearn.preprocessing import MinMaxScaler"
      ]
    },
    {
      "cell_type": "code",
      "execution_count": null,
      "metadata": {
        "id": "OkVdD1gKZV0a"
      },
      "outputs": [],
      "source": [
        "\n",
        "data= pd.get_dummies(data=data, columns=['Geography'], drop_first=True, prefix='Geography', prefix_sep='')\n",
        "data= pd.get_dummies(data=data, columns=['Gender'], drop_first=True, prefix='Gender', prefix_sep='')\n",
        "data= pd.get_dummies(data=data, columns=['HasCrCard'], drop_first=True, prefix='HasCrCard', prefix_sep='')\n",
        "data= pd.get_dummies(data=data, columns=['IsActiveMember'], drop_first=True, prefix='IsActiveMember', prefix_sep='')\n",
        "plt.figure(figsize=(10,10))\n",
        "sns.heatmap(data.corr())\n",
        "plt.show()"
      ]
    },
    {
      "cell_type": "code",
      "execution_count": null,
      "metadata": {
        "id": "2HIRfBX7ZV0a"
      },
      "outputs": [],
      "source": [
        "\n",
        "y=data.pop('Exited')\n",
        "data"
      ]
    },
    {
      "cell_type": "code",
      "execution_count": null,
      "metadata": {
        "id": "XLLgJtsFZV0a"
      },
      "outputs": [],
      "source": [
        "# Create an instance of the MinMaxScaler\n",
        "scaler = MinMaxScaler(feature_range=(0, 1))\n",
        "\n",
        "scaler.fit(data)\n"
      ]
    },
    {
      "cell_type": "code",
      "execution_count": null,
      "metadata": {
        "id": "HkuFm9MAZV0a"
      },
      "outputs": [],
      "source": [
        "x_scaled=scaler.transform(data)"
      ]
    },
    {
      "cell_type": "code",
      "execution_count": null,
      "metadata": {
        "id": "eyHWt-GUZV0a"
      },
      "outputs": [],
      "source": [
        "X_train, X_test, y_train, y_test = train_test_split(x_scaled, y, test_size=0.2, random_state=101)"
      ]
    },
    {
      "cell_type": "code",
      "execution_count": null,
      "metadata": {
        "id": "b0YtfvbBZV0b"
      },
      "outputs": [],
      "source": [
        "X_train_=pd.DataFrame(X_train,columns=data.columns,index=y_train.index)"
      ]
    },
    {
      "cell_type": "code",
      "execution_count": null,
      "metadata": {
        "id": "pLp4U8bcZV0b"
      },
      "outputs": [],
      "source": [
        "data_train=pd.concat([X_train_,y_train],axis=1)"
      ]
    },
    {
      "cell_type": "code",
      "execution_count": null,
      "metadata": {
        "id": "E1iDCBDsZV0b"
      },
      "outputs": [],
      "source": [
        "data_train"
      ]
    },
    {
      "cell_type": "markdown",
      "metadata": {
        "id": "q2RFoiSvZV0b"
      },
      "source": [
        "# Prueba de Hipotesis para feature engineering\n",
        "\n",
        "<p>Ho : El valor del coeficiente_n de la feature_n es 0</p>\n",
        "<p>Ha : El valor del coeficiente_n de la feature_n es diferente de 0 </p>\n",
        "\n",
        "<p> p-value_n <0.05 rechaza la hipotesis nula, por lo tanto el coeficiente es diferente de cero </p>\n",
        "<p> p-value_n >0.05 fallamos para rechazar la hipotesis nula, por lo tanto tenemos que realizar mas analisis para determinar si el coeficiente es o no igual a 0 </p>"
      ]
    },
    {
      "cell_type": "code",
      "execution_count": null,
      "metadata": {
        "id": "pHZWq_CFMZV1"
      },
      "outputs": [],
      "source": [
        "formula1 = 'Exited ~ GeographyGermany+GeographySpain+Tenure+GenderMale+Age+Balance+NumOfProducts+HasCrCard1+IsActiveMember1+EstimatedSalary'\n",
        "model = GLM.from_formula(formula1, data_train, family=Binomial())\n",
        "fitted1 = model.fit()\n",
        "print(fitted1.summary())"
      ]
    },
    {
      "cell_type": "code",
      "source": [
        "X_test_=pd.DataFrame(X_test,columns=data.columns,index=y_test.index)"
      ],
      "metadata": {
        "id": "5R6bUjcnZpjA"
      },
      "execution_count": null,
      "outputs": []
    },
    {
      "cell_type": "code",
      "execution_count": null,
      "metadata": {
        "id": "okIm2VXjZV0c"
      },
      "outputs": [],
      "source": [
        "y_pred=fitted1.predict(X_test_,transform=formula1)\n",
        "sns.histplot(y_pred)\n",
        "plt.show()"
      ]
    },
    {
      "cell_type": "code",
      "execution_count": null,
      "metadata": {
        "id": "Ps8QZwzCZV0c"
      },
      "outputs": [],
      "source": [
        "y_pred_tresh=y_pred.apply(lambda x: 1 if x>0.5  else 0)\n",
        "from sklearn.metrics import accuracy_score, confusion_matrix, classification_report\n",
        "print(\"Accuracy:\", accuracy_score(y_test,y_pred_tresh))\n",
        "print(\"Confusion Matrix:\", confusion_matrix(y_test, y_pred_tresh))\n",
        "print(\"Classification Report:\", classification_report(y_test,y_pred_tresh))"
      ]
    },
    {
      "cell_type": "code",
      "execution_count": null,
      "metadata": {
        "id": "WDYV-0F7ZV0c"
      },
      "outputs": [],
      "source": [
        "sns.histplot(fitted1.resid_deviance)\n",
        "plt.show()"
      ]
    },
    {
      "cell_type": "markdown",
      "metadata": {
        "id": "VJP3sSXnZV0c"
      },
      "source": [
        "## Como algunas features mostraron un pvalue mayor al alpha(0.05) voy a revisar como cambia el modelo al no considerar estas variables\n",
        "\n",
        "(las features categoricas no pueden ser descartadas parcialmente, tiene que ser toda la categoria completa, ejemplo GeographySpain)"
      ]
    },
    {
      "cell_type": "code",
      "execution_count": null,
      "metadata": {
        "id": "-9krKFALZV0c"
      },
      "outputs": [],
      "source": [
        "formula2 = 'Exited ~ GeographyGermany+GeographySpain+Tenure+GenderMale+Age+Balance+NumOfProducts+IsActiveMember1+EstimatedSalary'\n",
        "model2 = GLM.from_formula(formula2, data_train, family=Binomial())\n",
        "fitted2 = model2.fit()\n",
        "\n",
        "print(fitted2.summary())"
      ]
    },
    {
      "cell_type": "code",
      "execution_count": null,
      "metadata": {
        "id": "pYac5603ZV0d"
      },
      "outputs": [],
      "source": [
        "y_pred=fitted2.predict(X_test_,transform=formula2)\n",
        "sns.histplot(y_pred)\n",
        "plt.show()"
      ]
    },
    {
      "cell_type": "code",
      "execution_count": null,
      "metadata": {
        "id": "edSujhN2ZV0d"
      },
      "outputs": [],
      "source": [
        "y_pred_tresh=y_pred.apply(lambda x: 1 if x>0.5 else 0)\n",
        "from sklearn.metrics import accuracy_score, confusion_matrix, classification_report\n",
        "print(\"Accuracy:\", accuracy_score(y_test,y_pred_tresh))\n",
        "print(\"Confusion Matrix:\", confusion_matrix(y_test, y_pred_tresh))\n",
        "print(\"Classification Report:\", classification_report(y_test,y_pred_tresh))"
      ]
    },
    {
      "cell_type": "markdown",
      "metadata": {
        "id": "MU76qeNHZV0d"
      },
      "source": [
        "Sin embargo, eliminar una feature también puede disminuir la precisión del modelo si esa feature es realmente importante para las predicciones del modelo. Esto puede suceder si la feature tiene una alta correlación con la variable de respuesta o si captura una relación no lineal que otras feature no pueden capturar."
      ]
    },
    {
      "cell_type": "code",
      "execution_count": null,
      "metadata": {
        "id": "9o-j16_SZV0d"
      },
      "outputs": [],
      "source": [
        "sns.histplot(fitted2.resid_deviance)\n",
        "plt.show()"
      ]
    },
    {
      "cell_type": "code",
      "execution_count": null,
      "metadata": {
        "id": "_thfj9BmZV0d"
      },
      "outputs": [],
      "source": [
        "formula3 = 'Exited ~ GeographyGermany++GeographySpain+GenderMale+Age+Balance+IsActiveMember1'\n",
        "model3 = GLM.from_formula(formula3, data_train, family=Binomial())\n",
        "fitted3 = model3.fit()\n",
        "\n",
        "print(fitted3.summary())"
      ]
    },
    {
      "cell_type": "code",
      "execution_count": null,
      "metadata": {
        "id": "BGrFLQBRZV0e"
      },
      "outputs": [],
      "source": [
        "y_pred=fitted3.predict(X_test_,transform=formula3)\n",
        "sns.histplot(y_pred)\n",
        "plt.show()"
      ]
    },
    {
      "cell_type": "code",
      "execution_count": null,
      "metadata": {
        "id": "WU-X45R0ZV0e"
      },
      "outputs": [],
      "source": [
        "y_pred_tresh=y_pred.apply(lambda x: 1 if x>0.5  else 0)\n",
        "from sklearn.metrics import accuracy_score, confusion_matrix, classification_report\n",
        "print(\"Accuracy:\", accuracy_score(y_test,y_pred_tresh))\n",
        "print(\"Confusion Matrix:\", confusion_matrix(y_test, y_pred_tresh))\n",
        "print(\"Classification Report:\", classification_report(y_test,y_pred_tresh))"
      ]
    },
    {
      "cell_type": "code",
      "execution_count": null,
      "metadata": {
        "id": "1GUEafu5ZV0e"
      },
      "outputs": [],
      "source": [
        "sns.histplot(fitted3.resid_deviance)\n",
        "plt.show()"
      ]
    },
    {
      "cell_type": "markdown",
      "metadata": {
        "id": "5mtBmK1mZV0e"
      },
      "source": [
        "como la accuracy no mejora luego de eliminar las features, podemos concluir que si aportan al modelo y como alternativa para incrementar la accuracy podriamos probar otros modelos como arboles de decision"
      ]
    },
    {
      "cell_type": "markdown",
      "metadata": {
        "id": "1z25ZYWMZV0e"
      },
      "source": [
        "# Arboles de decision"
      ]
    },
    {
      "cell_type": "code",
      "execution_count": null,
      "metadata": {
        "id": "viC-5Q-HZV0f"
      },
      "outputs": [],
      "source": [
        "from io import StringIO\n",
        "from sklearn.tree import export_graphviz\n",
        "import pydotplus\n",
        "from IPython.display import Image, SVG\n",
        "\n",
        "\n",
        "clf = DecisionTreeClassifier(max_depth =3)\n",
        "\n",
        "# Train Decision Tree Classifer\n",
        "covariates=['Exited']\n",
        "#y_train_=y_train.astype('category')\n",
        "clf = clf.fit(X_train_, y_train_.cat.codes)\n",
        "\n",
        "dot_data = StringIO()\n",
        "export_graphviz(clf, out_file=dot_data, feature_names = X_train_.columns, class_names=['Exited','Not_Exited'],\n",
        "                filled=True, rounded=True,\n",
        "                special_characters=True, \n",
        "                impurity='gini', proportion=True)\n",
        "\n",
        "graph = pydotplus.graph_from_dot_data(dot_data.getvalue())  \n",
        "Image(graph.create_png())"
      ]
    },
    {
      "cell_type": "code",
      "execution_count": null,
      "metadata": {
        "id": "la2eeycAZV0g"
      },
      "outputs": [],
      "source": [
        "graph.write_png('tree.png')"
      ]
    },
    {
      "cell_type": "code",
      "execution_count": null,
      "metadata": {
        "id": "R_OelqFsZV0g"
      },
      "outputs": [],
      "source": [
        "y_pred=clf.predict(X_test_)\n",
        "\n",
        "print(\"Accuracy:\", accuracy_score(y_test,y_pred))\n",
        "print(\"Confusion Matrix:\", confusion_matrix(y_test, y_pred))\n",
        "print(\"Classification Report:\", classification_report(y_test,y_pred))"
      ]
    },
    {
      "cell_type": "markdown",
      "metadata": {
        "id": "cVGnYmfAAm7k"
      },
      "source": [
        "## 2. Construcción del modelo analítico\n",
        "\n",
        "En esta sección el objetivo es que construya un prototipo rápido de un modelo analítico y lo guarde. Es importante que nos cuente porque eligió este modelo, es decir, que vio en los datos para creer que un modelo como este podría funcionar bien. Adicional, suponga que le va a presentar esté modelo a un usuario que le parece importante tener un modelo que sea preciso, pero que también cuyos resultados puedan ser interpretables de alguna manera.\n",
        "\n",
        "* ¿Es su modelo interpretable?"
      ]
    },
    {
      "cell_type": "markdown",
      "source": [
        "R/ Decidí explorar el problema mediante modelos de Regresion logistica y Arboles de decisíon \n",
        "\n",
        "Ambos modelos son interpretables.\n"
      ],
      "metadata": {
        "id": "VhtT55tpd33U"
      }
    },
    {
      "cell_type": "markdown",
      "source": [
        "* Si no es interpretable ¿Hay alguna forma de hacerlo interpretable?\n"
      ],
      "metadata": {
        "id": "V1CDRX28d6CW"
      }
    },
    {
      "cell_type": "markdown",
      "source": [
        "R/ Si un modelo no fuese interpretable puede ser difícil de entender y explicar, lo que puede representar un desafío al intentar utilizarlo en aplicaciones del mundo real.\n",
        "\n",
        "Sin embargo, una de las formas de hacer que un modelo sea más interpretable seria implementando un conjunto de modelos, como un random forest, que es un conjunto de árboles de decisión."
      ],
      "metadata": {
        "id": "xY3Vldjkd8AL"
      }
    },
    {
      "cell_type": "markdown",
      "source": [
        "* ¿Por qué escogio este modelo? "
      ],
      "metadata": {
        "id": "ZOt5h-oad94-"
      }
    },
    {
      "cell_type": "markdown",
      "source": [
        "R/ Porque permite interpretar las variables independientes de manera mas facil"
      ],
      "metadata": {
        "id": "E10oIjJ2d-qK"
      }
    },
    {
      "cell_type": "markdown",
      "metadata": {
        "id": "07_EeQOnAm7l"
      },
      "source": [
        "## 3. Conclusiones\n",
        "\n",
        "Describa los resultados obtenidos de su modelo y defina posibles recomendaciones o sugerencias que se puedan derivar de éstos resultados."
      ]
    },
    {
      "cell_type": "markdown",
      "source": [
        "a partir de la regresion logistica y el analisis de Features, encontramos que la edad, Miembro Activo, Numero de Productos, la ubicación geografica es determinante y Balance son las variables que mas pesos otorgan al modelo. Esto se ve reflejado en el modelo de Arboles de decision, donde la primera feature clasificadora es Edad diviendo los datos en 72% y 28% de las meustras de entrenamiento."
      ],
      "metadata": {
        "id": "nIjm58SWjfYX"
      }
    },
    {
      "cell_type": "code",
      "execution_count": null,
      "metadata": {
        "id": "cj_Nw0IpBhTI"
      },
      "outputs": [],
      "source": [
        " "
      ]
    }
  ],
  "metadata": {
    "colab": {
      "private_outputs": true,
      "provenance": [],
      "include_colab_link": true
    },
    "gpuClass": "standard",
    "kernelspec": {
      "display_name": "base",
      "language": "python",
      "name": "python3"
    },
    "language_info": {
      "codemirror_mode": {
        "name": "ipython",
        "version": 3
      },
      "file_extension": ".py",
      "mimetype": "text/x-python",
      "name": "python",
      "nbconvert_exporter": "python",
      "pygments_lexer": "ipython3",
      "version": "3.9.13"
    },
    "pycharm": {
      "stem_cell": {
        "cell_type": "raw",
        "metadata": {
          "collapsed": false
        },
        "source": []
      }
    },
    "vscode": {
      "interpreter": {
        "hash": "2e33924f5cad5d014716ef47a4956958652f2e3e756f7b26cc7db08a809e4a3f"
      }
    }
  },
  "nbformat": 4,
  "nbformat_minor": 0
}